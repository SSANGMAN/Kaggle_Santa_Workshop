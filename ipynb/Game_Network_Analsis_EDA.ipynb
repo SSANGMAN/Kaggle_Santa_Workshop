{
 "nbformat": 4,
 "nbformat_minor": 2,
 "metadata": {
  "language_info": {
   "name": "python",
   "codemirror_mode": {
    "name": "ipython",
    "version": 3
   },
   "version": "3.7.3"
  },
  "orig_nbformat": 2,
  "file_extension": ".py",
  "mimetype": "text/x-python",
  "name": "python",
  "npconvert_exporter": "python",
  "pygments_lexer": "ipython3",
  "version": 3
 },
 "cells": [
  {
   "cell_type": "markdown",
   "execution_count": null,
   "metadata": {},
   "outputs": [],
   "source": [
    "# Introduction\n",
    "Source: [World of Warcraft Avatar History Dataset](http://mmnet.iis.sinica.edu.tw/dl/wowah/)  \n",
    "게임 시스템 디자이너의 관점에서 보면, 플레이어의 행동은 게임 시스템을 설계할 때 반드시 고려해야하는 가장 중요한 요소 중 하나입니다. 온라인 게이머들의 게임 내 행동에 대한 근본적인 이해를 얻기 위해서, 사용자의 게임 플레이 시간을 탐구하는 것은 좋은 출발점이 될 수 있습니다. <b>게임 플레이 시간</b> 개념은 MMORPG 뿐만아니라, 모든 장르의 게임에 적용이 가능하며, 시스템 작업뿐만 아니라 사용자 행덩에 대한 시스템 및 네트워크 QoS의 영향을 모델링할 수 있습니다. 또한 게임에 대한 유저들의 충성심을 예측하는 데 도움을 줄 수 있습니다.  \n",
    "\n",
    "이 데이터는 91,056개의 캐릭터 기록으로 구성된 WoWAH(World of Warcraft Avatar History)입니다. 데이터의 관측기간은 월드 오브 워크래프트의 오리지날과 '불타는 성전과 리치왕의 분노'확장팩이 출시한 2006년 1월부터 2009년 1월까지 총 1,107일 입니다. 게임 내 캐릭터의 플레이 시간과 종족, 직업, 레벨 및 게임 내 위치와 같은 여러 속성이 제공됩니다.  \n",
    "\n",
    "로그 추적에 대한 설명\n",
    "관측기간 동안 모니터링한 91,065개의 캐릭터와 그 캐릭터와 관련된 667,032개의 세션이 관측되었습니다. 샘플링 주기는 10분이었습니다. 플레이어의 프라이버시를 보호하기 위해 캐릭터와 길드 이름은 일관된 매핑(동일한 이름이 항상 동일한 캐릭터로 매핑 됨)으로 이루어졌습니다. 데이터 셋의 요약은 Table 1에 제시되어 있습니다.  \n",
    "\n",
    "![](http://mmnet.iis.sinica.edu.tw/dl/wowah/img/tbl_summary.jpg)\n",
    "\n",
    "캐릭터 로그 파일은 Persistant_Storage 및 RoundInfo의 두 배열로 구성됩니다. 캐릭터 히스토리에 대해 수집 된 모든 데이터는 Persistant_Storage 배열에 저장됩니다. 각 요소는 샘플링 기간 동안 관찰 된 캐릭터에 대한 정보를 저장합니다. 따라서 요소의 수는 샘플링 기간동안 온라인 상태인 캐릭터의 수와 같습니다. 변수의 의미와 그에 대한 범위는 Table 2에 설명되어 있습니다. 또한 Table 3에는 3개의 샘플 행이 존재합니다. 첫 번째 행은 23:59:39에 ID 467인 캐릭터를 관측했음을 나타냅니다. 2006년 1월 1일에 이 캐릭터는 오그리마에 있는 레벨 1 오크 전사였습니다.\n",
    "\n",
    "![](http://mmnet.iis.sinica.edu.tw/dl/wowah/img/tbl_fields.jpg)\n",
    "![](http://mmnet.iis.sinica.edu.tw/dl/wowah/img/tbl_example.jpg)\n"
   ]
  },
  {
   "cell_type": "markdown",
   "execution_count": null,
   "metadata": {},
   "outputs": [],
   "source": [
    "# Import Module"
   ]
  },
  {
   "cell_type": "code",
   "execution_count": 18,
   "metadata": {},
   "outputs": [
    {
     "name": "stdout",
     "output_type": "stream",
     "text": "['locations.csv', 'location_coords.csv', 'wowah_data.csv', 'zones.csv']\n"
    }
   ],
   "source": [
    "import pandas as pd\n",
    "import numpy as np\n",
    "\n",
    "import matplotlib.pyplot as plt\n",
    "import seaborn as sns\n",
    "\n",
    "import os\n",
    "import warnings \n",
    "warnings.filterwarnings('ignore')\n",
    "print(os.listdir('./dataset'))"
   ]
  },
  {
   "cell_type": "markdown",
   "execution_count": null,
   "metadata": {},
   "outputs": [],
   "source": [
    "# Preparing Dataset"
   ]
  },
  {
   "cell_type": "markdown",
   "execution_count": 23,
   "metadata": {},
   "outputs": [],
   "source": [
    "## Define Function"
   ]
  },
  {
   "cell_type": "code",
   "execution_count": 21,
   "metadata": {},
   "outputs": [],
   "source": [
    "## Function to reduce the DF size\n",
    "## Source kernel: https://www.kaggle.com/arjanso/reducing-dataframe-memory-size-by-65\n",
    "def reduce_mem_usage(df, verbose=True):\n",
    "    numerics = ['int16', 'int32', 'int64', 'float16', 'float32', 'float64']\n",
    "    start_mem = df.memory_usage().sum() / 1024**2    \n",
    "    for col in df.columns:\n",
    "        col_type = df[col].dtypes\n",
    "        if col_type in numerics:\n",
    "            c_min = df[col].min()\n",
    "            c_max = df[col].max()\n",
    "            if str(col_type)[:3] == 'int':\n",
    "                if c_min > np.iinfo(np.int8).min and c_max < np.iinfo(np.int8).max:\n",
    "                    df[col] = df[col].astype(np.int8)\n",
    "                elif c_min > np.iinfo(np.int16).min and c_max < np.iinfo(np.int16).max:\n",
    "                    df[col] = df[col].astype(np.int16)\n",
    "                elif c_min > np.iinfo(np.int32).min and c_max < np.iinfo(np.int32).max:\n",
    "                    df[col] = df[col].astype(np.int32)\n",
    "                elif c_min > np.iinfo(np.int64).min and c_max < np.iinfo(np.int64).max:\n",
    "                    df[col] = df[col].astype(np.int64)  \n",
    "            else:\n",
    "                if c_min > np.finfo(np.float16).min and c_max < np.finfo(np.float16).max:\n",
    "                    df[col] = df[col].astype(np.float16)\n",
    "                elif c_min > np.finfo(np.float32).min and c_max < np.finfo(np.float32).max:\n",
    "                    df[col] = df[col].astype(np.float32)\n",
    "                else:\n",
    "                    df[col] = df[col].astype(np.float64)    \n",
    "    end_mem = df.memory_usage().sum() / 1024**2\n",
    "    if verbose: print('Mem. usage decreased to {:5.2f} Mb ({:.1f}% reduction)'.format(end_mem, 100 * (start_mem - end_mem) / start_mem))\n",
    "    return df"
   ]
  },
  {
   "cell_type": "code",
   "execution_count": 28,
   "metadata": {},
   "outputs": [
    {
     "name": "stdout",
     "output_type": "stream",
     "text": "Mem. usage decreased to 402.68 Mb (30.4% reduction)\n"
    }
   ],
   "source": [
    "location = pd.read_csv('./dataset/locations.csv', encoding = 'unicode_escape')\n",
    "location_coord = pd.read_csv('./dataset/location_coords.csv', encoding = 'unicode_escape')\n",
    "wowah_data = pd.read_csv('./dataset/wowah_data.csv', encoding = 'unicode_escape')\n",
    "wowah_data = reduce_mem_usage(wowah_data)\n",
    "zones = pd.read_csv('./dataset/zones.csv', encoding = 'unicode_escape')\n"
   ]
  },
  {
   "cell_type": "code",
   "execution_count": 29,
   "metadata": {},
   "outputs": [
    {
     "data": {
      "text/html": "<div>\n<style scoped>\n    .dataframe tbody tr th:only-of-type {\n        vertical-align: middle;\n    }\n\n    .dataframe tbody tr th {\n        vertical-align: top;\n    }\n\n    .dataframe thead th {\n        text-align: right;\n    }\n</style>\n<table border=\"1\" class=\"dataframe\">\n  <thead>\n    <tr style=\"text-align: right;\">\n      <th></th>\n      <th>Map_ID</th>\n      <th>Location_Type</th>\n      <th>Location_Name</th>\n      <th>Game_Version</th>\n    </tr>\n  </thead>\n  <tbody>\n    <tr>\n      <th>0</th>\n      <td>0</td>\n      <td>Continent</td>\n      <td>Eastern Kingdoms</td>\n      <td>WoW</td>\n    </tr>\n    <tr>\n      <th>1</th>\n      <td>1</td>\n      <td>Continent</td>\n      <td>Kalimdor</td>\n      <td>WoW</td>\n    </tr>\n    <tr>\n      <th>2</th>\n      <td>530</td>\n      <td>Continent</td>\n      <td>Outlands</td>\n      <td>TBC</td>\n    </tr>\n    <tr>\n      <th>3</th>\n      <td>571</td>\n      <td>Continent</td>\n      <td>Northrend</td>\n      <td>WLK</td>\n    </tr>\n    <tr>\n      <th>4</th>\n      <td>646</td>\n      <td>Continent</td>\n      <td>Deepholm</td>\n      <td>CAT</td>\n    </tr>\n  </tbody>\n</table>\n</div>",
      "text/plain": "   Map_ID Location_Type     Location_Name Game_Version\n0       0     Continent  Eastern Kingdoms          WoW\n1       1     Continent          Kalimdor          WoW\n2     530     Continent          Outlands          TBC\n3     571     Continent         Northrend          WLK\n4     646     Continent          Deepholm          CAT"
     },
     "execution_count": 29,
     "metadata": {},
     "output_type": "execute_result"
    }
   ],
   "source": [
    "location.head()"
   ]
  },
  {
   "cell_type": "code",
   "execution_count": 30,
   "metadata": {},
   "outputs": [
    {
     "data": {
      "text/html": "<div>\n<style scoped>\n    .dataframe tbody tr th:only-of-type {\n        vertical-align: middle;\n    }\n\n    .dataframe tbody tr th {\n        vertical-align: top;\n    }\n\n    .dataframe thead th {\n        text-align: right;\n    }\n</style>\n<table border=\"1\" class=\"dataframe\">\n  <thead>\n    <tr style=\"text-align: right;\">\n      <th></th>\n      <th>char</th>\n      <th>level</th>\n      <th>race</th>\n      <th>charclass</th>\n      <th>zone</th>\n      <th>guild</th>\n      <th>timestamp</th>\n    </tr>\n  </thead>\n  <tbody>\n    <tr>\n      <th>0</th>\n      <td>59425</td>\n      <td>1</td>\n      <td>Orc</td>\n      <td>Rogue</td>\n      <td>Orgrimmar</td>\n      <td>165</td>\n      <td>01/01/08 00:02:04</td>\n    </tr>\n    <tr>\n      <th>1</th>\n      <td>65494</td>\n      <td>9</td>\n      <td>Orc</td>\n      <td>Hunter</td>\n      <td>Durotar</td>\n      <td>-1</td>\n      <td>01/01/08 00:02:04</td>\n    </tr>\n    <tr>\n      <th>2</th>\n      <td>65325</td>\n      <td>14</td>\n      <td>Orc</td>\n      <td>Warrior</td>\n      <td>Ghostlands</td>\n      <td>-1</td>\n      <td>01/01/08 00:02:04</td>\n    </tr>\n    <tr>\n      <th>3</th>\n      <td>65490</td>\n      <td>18</td>\n      <td>Orc</td>\n      <td>Hunter</td>\n      <td>Ghostlands</td>\n      <td>-1</td>\n      <td>01/01/08 00:02:04</td>\n    </tr>\n    <tr>\n      <th>4</th>\n      <td>2288</td>\n      <td>60</td>\n      <td>Orc</td>\n      <td>Hunter</td>\n      <td>Hellfire Peninsula</td>\n      <td>-1</td>\n      <td>01/01/08 00:02:09</td>\n    </tr>\n  </tbody>\n</table>\n</div>",
      "text/plain": "    char   level  race  charclass                zone   guild  \\\n0  59425       1   Orc      Rogue           Orgrimmar     165   \n1  65494       9   Orc     Hunter             Durotar      -1   \n2  65325      14   Orc    Warrior          Ghostlands      -1   \n3  65490      18   Orc     Hunter          Ghostlands      -1   \n4   2288      60   Orc     Hunter  Hellfire Peninsula      -1   \n\n           timestamp  \n0  01/01/08 00:02:04  \n1  01/01/08 00:02:04  \n2  01/01/08 00:02:04  \n3  01/01/08 00:02:04  \n4  01/01/08 00:02:09  "
     },
     "execution_count": 30,
     "metadata": {},
     "output_type": "execute_result"
    }
   ],
   "source": [
    "wowah_data.head()"
   ]
  },
  {
   "cell_type": "code",
   "execution_count": 33,
   "metadata": {},
   "outputs": [
    {
     "data": {
      "text/html": "<div>\n<style scoped>\n    .dataframe tbody tr th:only-of-type {\n        vertical-align: middle;\n    }\n\n    .dataframe tbody tr th {\n        vertical-align: top;\n    }\n\n    .dataframe thead th {\n        text-align: right;\n    }\n</style>\n<table border=\"1\" class=\"dataframe\">\n  <thead>\n    <tr style=\"text-align: right;\">\n      <th></th>\n      <th>Location_Name</th>\n      <th>Map_ID</th>\n      <th>X_coord</th>\n      <th>Y_coord</th>\n      <th>Z_coord</th>\n    </tr>\n  </thead>\n  <tbody>\n    <tr>\n      <th>0</th>\n      <td>Eastern Kingdom: Ironforge Airport</td>\n      <td>0.0</td>\n      <td>-4488.993311</td>\n      <td>-1580.19104</td>\n      <td>509.005066</td>\n    </tr>\n    <tr>\n      <th>1</th>\n      <td>Eastern Kingdom: Wetlands Mountain Camp</td>\n      <td>0.0</td>\n      <td>-3855.000000</td>\n      <td>-3479.00000</td>\n      <td>579.000000</td>\n    </tr>\n    <tr>\n      <th>2</th>\n      <td>Eastern Kingdom: Dun Morogh plane camp</td>\n      <td>0.0</td>\n      <td>-6161.000000</td>\n      <td>-786.00000</td>\n      <td>423.000000</td>\n    </tr>\n    <tr>\n      <th>3</th>\n      <td>Eastern Kingdom: Undercity</td>\n      <td>0.0</td>\n      <td>1831.260000</td>\n      <td>238.53000</td>\n      <td>60.520000</td>\n    </tr>\n    <tr>\n      <th>4</th>\n      <td>Eastern Kingdom: Stormwind City</td>\n      <td>0.0</td>\n      <td>-8913.230000</td>\n      <td>554.63300</td>\n      <td>93.794400</td>\n    </tr>\n  </tbody>\n</table>\n</div>",
      "text/plain": "                             Location_Name  Map_ID      X_coord     Y_coord  \\\n0       Eastern Kingdom: Ironforge Airport     0.0 -4488.993311 -1580.19104   \n1  Eastern Kingdom: Wetlands Mountain Camp     0.0 -3855.000000 -3479.00000   \n2   Eastern Kingdom: Dun Morogh plane camp     0.0 -6161.000000  -786.00000   \n3               Eastern Kingdom: Undercity     0.0  1831.260000   238.53000   \n4          Eastern Kingdom: Stormwind City     0.0 -8913.230000   554.63300   \n\n      Z_coord  \n0  509.005066  \n1  579.000000  \n2  423.000000  \n3   60.520000  \n4   93.794400  "
     },
     "execution_count": 33,
     "metadata": {},
     "output_type": "execute_result"
    }
   ],
   "source": [
    "location_coord.head()"
   ]
  },
  {
   "cell_type": "code",
   "execution_count": 34,
   "metadata": {},
   "outputs": [
    {
     "data": {
      "text/html": "<div>\n<style scoped>\n    .dataframe tbody tr th:only-of-type {\n        vertical-align: middle;\n    }\n\n    .dataframe tbody tr th {\n        vertical-align: top;\n    }\n\n    .dataframe thead th {\n        text-align: right;\n    }\n</style>\n<table border=\"1\" class=\"dataframe\">\n  <thead>\n    <tr style=\"text-align: right;\">\n      <th></th>\n      <th>Zone_Name</th>\n      <th>Continent</th>\n      <th>Area</th>\n      <th>Zone</th>\n      <th>Subzone</th>\n      <th>Type</th>\n      <th>Size</th>\n      <th>Controlled</th>\n      <th>Min_req_level</th>\n      <th>Min_rec_level</th>\n      <th>Max_rec_level</th>\n      <th>Min_bot_level</th>\n      <th>Max_bot_level</th>\n    </tr>\n  </thead>\n  <tbody>\n    <tr>\n      <th>0</th>\n      <td>Durotar</td>\n      <td>Kalimdor</td>\n      <td>Central Kalimdor</td>\n      <td>Durotar</td>\n      <td>NaN</td>\n      <td>Zone</td>\n      <td>NaN</td>\n      <td>Horde</td>\n      <td>1</td>\n      <td>1.0</td>\n      <td>10.0</td>\n      <td>1.0</td>\n      <td>10.0</td>\n    </tr>\n    <tr>\n      <th>1</th>\n      <td>The Barrens</td>\n      <td>Kalimdor</td>\n      <td>Central Kalimdor</td>\n      <td>The Barrens</td>\n      <td>NaN</td>\n      <td>Zone</td>\n      <td>NaN</td>\n      <td>Contested</td>\n      <td>1</td>\n      <td>10.0</td>\n      <td>35.0</td>\n      <td>10.0</td>\n      <td>35.0</td>\n    </tr>\n    <tr>\n      <th>2</th>\n      <td>Silverpine Forest</td>\n      <td>Eastern Kingdoms</td>\n      <td>Lordaeron</td>\n      <td>Silverpine Forest</td>\n      <td>NaN</td>\n      <td>Zone</td>\n      <td>NaN</td>\n      <td>Horde</td>\n      <td>1</td>\n      <td>10.0</td>\n      <td>20.0</td>\n      <td>10.0</td>\n      <td>20.0</td>\n    </tr>\n    <tr>\n      <th>3</th>\n      <td>Stonetalon Mountains</td>\n      <td>Kalimdor</td>\n      <td>Central Kalimdor</td>\n      <td>Stonetalon Mountains</td>\n      <td>NaN</td>\n      <td>Zone</td>\n      <td>NaN</td>\n      <td>Contested</td>\n      <td>1</td>\n      <td>25.0</td>\n      <td>30.0</td>\n      <td>25.0</td>\n      <td>30.0</td>\n    </tr>\n    <tr>\n      <th>4</th>\n      <td>Thunder Bluff</td>\n      <td>Kalimdor</td>\n      <td>Central Kalimdor</td>\n      <td>Thunder Bluff</td>\n      <td>NaN</td>\n      <td>City</td>\n      <td>NaN</td>\n      <td>Horde</td>\n      <td>1</td>\n      <td>1.0</td>\n      <td>100.0</td>\n      <td>1.0</td>\n      <td>100.0</td>\n    </tr>\n  </tbody>\n</table>\n</div>",
      "text/plain": "              Zone_Name         Continent              Area  \\\n0               Durotar          Kalimdor  Central Kalimdor   \n1           The Barrens          Kalimdor  Central Kalimdor   \n2     Silverpine Forest  Eastern Kingdoms         Lordaeron   \n3  Stonetalon Mountains          Kalimdor  Central Kalimdor   \n4         Thunder Bluff          Kalimdor  Central Kalimdor   \n\n                   Zone Subzone  Type  Size Controlled  Min_req_level  \\\n0               Durotar     NaN  Zone   NaN      Horde              1   \n1           The Barrens     NaN  Zone   NaN  Contested              1   \n2     Silverpine Forest     NaN  Zone   NaN      Horde              1   \n3  Stonetalon Mountains     NaN  Zone   NaN  Contested              1   \n4         Thunder Bluff     NaN  City   NaN      Horde              1   \n\n   Min_rec_level  Max_rec_level  Min_bot_level  Max_bot_level  \n0            1.0           10.0            1.0           10.0  \n1           10.0           35.0           10.0           35.0  \n2           10.0           20.0           10.0           20.0  \n3           25.0           30.0           25.0           30.0  \n4            1.0          100.0            1.0          100.0  "
     },
     "execution_count": 34,
     "metadata": {},
     "output_type": "execute_result"
    }
   ],
   "source": [
    "zones.head()"
   ]
  }
 ]
}